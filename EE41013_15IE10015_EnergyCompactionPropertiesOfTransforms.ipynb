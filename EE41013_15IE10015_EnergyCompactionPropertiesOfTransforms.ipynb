{
 "cells": [
  {
   "cell_type": "code",
   "execution_count": 1,
   "metadata": {},
   "outputs": [],
   "source": [
    "import numpy as np\n",
    "import math\n",
    "import cmath\n",
    "#import random\n",
    "import time\n",
    "import matplotlib.pyplot as plt\n",
    "%matplotlib inline"
   ]
  },
  {
   "cell_type": "markdown",
   "metadata": {},
   "source": [
    "#### Discrete Fourier transform and Inverse Discrete Fourier transform"
   ]
  },
  {
   "cell_type": "code",
   "execution_count": 2,
   "metadata": {},
   "outputs": [],
   "source": [
    "from numpy.linalg import inv\n",
    "def DFT_Matrix(N):\n",
    "    W = np.ndarray((N,N),dtype = complex)\n",
    "    for i in range(N):\n",
    "        for j in range(N):\n",
    "            W[i][j] = cmath.exp(complex(0,float(-2*math.pi/N*i*j)))\n",
    "    return W"
   ]
  },
  {
   "cell_type": "code",
   "execution_count": 3,
   "metadata": {},
   "outputs": [],
   "source": [
    "def DFT(N,x):\n",
    "    x = x.transpose()\n",
    "    W=DFT_Matrix(N)\n",
    "    X=np.matmul(W,x)\n",
    "    return X"
   ]
  },
  {
   "cell_type": "code",
   "execution_count": 4,
   "metadata": {},
   "outputs": [],
   "source": [
    "def IDFT(N,X):\n",
    "    W=DFT_Matrix(N)\n",
    "    W1 = inv(W)\n",
    "    x=np.matmul(W1,X)\n",
    "    return x"
   ]
  },
  {
   "cell_type": "markdown",
   "metadata": {},
   "source": [
    "#### Discrete Cosine transform and Inverse Discrete Cosine transform"
   ]
  },
  {
   "cell_type": "code",
   "execution_count": 5,
   "metadata": {},
   "outputs": [],
   "source": [
    "def DCT(N,x):\n",
    "    x = x.transpose()\n",
    "    D1=[]\n",
    "    for k in range(N):\n",
    "        d=[]\n",
    "        for n in range(N):\n",
    "            d.append(np.cos(((math.pi)*k*(2*n+1))/(2*N)))\n",
    "        D1.append(d)\n",
    "    X=np.matmul(D1,x)\n",
    "    X=np.multiply(X,2)\n",
    "    return X"
   ]
  },
  {
   "cell_type": "code",
   "execution_count": 6,
   "metadata": {},
   "outputs": [],
   "source": [
    "def IDCT(N,X):\n",
    "    D=[]\n",
    "    for n in range(N):\n",
    "        d=[]\n",
    "        for k in range(N):\n",
    "            d.append(np.cos(((math.pi)*k*(2*n+1))/(2*N)))\n",
    "        D.append(d)\n",
    "    X1=[]\n",
    "    a=[]\n",
    "    a.append(0.5)\n",
    "    for i in range(N-1):\n",
    "        a.append(1)\n",
    "    for i in range(N):\n",
    "        X1.append(X[i]*a[i])\n",
    "    x=np.matmul(D,X1)\n",
    "    x=np.divide(x,N)\n",
    "    return x"
   ]
  },
  {
   "cell_type": "markdown",
   "metadata": {},
   "source": [
    "#### Haar transform and Inverse Haar transform"
   ]
  },
  {
   "cell_type": "code",
   "execution_count": 7,
   "metadata": {},
   "outputs": [],
   "source": [
    "def Haar_Matrix(n):\n",
    "    n = 2**np.ceil(np.log2(n))\n",
    "    if n > 2:\n",
    "        h = Haar_Matrix(n / 2)\n",
    "    else:\n",
    "        return np.array([[1, 1], [1, -1]])\n",
    "\n",
    "    h_n = np.kron(h, [1, 1])\n",
    "    h_i = np.sqrt(n/2)*np.kron(np.eye(len(h)), [1, -1])\n",
    "    h = np.vstack((h_n, h_i))\n",
    "    return h"
   ]
  },
  {
   "cell_type": "code",
   "execution_count": 8,
   "metadata": {},
   "outputs": [],
   "source": [
    "def HT(N,x):\n",
    "    H=Haar_Matrix(N)\n",
    "    X=np.matmul(H,x)\n",
    "    return X"
   ]
  },
  {
   "cell_type": "code",
   "execution_count": 9,
   "metadata": {},
   "outputs": [],
   "source": [
    "def IHT(N,X):\n",
    "    H=Haar_Matrix(N)\n",
    "    x=np.matmul(inv(H),X)\n",
    "    return x"
   ]
  },
  {
   "cell_type": "markdown",
   "metadata": {},
   "source": [
    "#### Mean Absolute Error"
   ]
  },
  {
   "cell_type": "code",
   "execution_count": 10,
   "metadata": {},
   "outputs": [],
   "source": [
    "def MeanError(x1,x2):\n",
    "    x1=np.array(x1)\n",
    "    x2=np.array(x2)\n",
    "    return np.mean((abs(x1-x2))**2)"
   ]
  },
  {
   "cell_type": "markdown",
   "metadata": {},
   "source": [
    "#### Energy Compaction Properties of transforms"
   ]
  },
  {
   "cell_type": "code",
   "execution_count": 11,
   "metadata": {},
   "outputs": [],
   "source": [
    "L=[]\n",
    "for i in range(0,7):\n",
    "    L.append(10*i)"
   ]
  },
  {
   "cell_type": "code",
   "execution_count": 12,
   "metadata": {},
   "outputs": [],
   "source": [
    "def X_m1(X,L):\n",
    "    Xm1=[]\n",
    "    N=len(X)\n",
    "    for i in range(N):\n",
    "        if i<=int((N-1-L)/2):\n",
    "            Xm1.append(X[i])\n",
    "        elif i>=int((N+1-L)/2) and i<=int((N-1+L)/2):\n",
    "            Xm1.append(0)\n",
    "        elif i>=int((N+1+L)/2) and i<=N-1:\n",
    "            Xm1.append(X[i])\n",
    "    return Xm1"
   ]
  },
  {
   "cell_type": "code",
   "execution_count": 13,
   "metadata": {},
   "outputs": [],
   "source": [
    "def X_m2(X,L):\n",
    "    N=len(X)\n",
    "    Xm2=[]\n",
    "    for i in range(N):\n",
    "        if i<=(N-1-L):\n",
    "            Xm2.append(X[i])\n",
    "        else:\n",
    "            Xm2.append(0)\n",
    "    return Xm2"
   ]
  },
  {
   "cell_type": "code",
   "execution_count": 14,
   "metadata": {},
   "outputs": [],
   "source": [
    "def X_m3(X,L):\n",
    "    N=len(X)\n",
    "    Xm3=[]\n",
    "    for i in range(N):\n",
    "        if i<=(N-1-L):\n",
    "            Xm3.append(X[i])\n",
    "        else:\n",
    "            Xm3.append(0)\n",
    "    return Xm3"
   ]
  },
  {
   "cell_type": "code",
   "execution_count": 15,
   "metadata": {},
   "outputs": [],
   "source": [
    "N=64\n",
    "Z=20\n",
    "E1=[]\n",
    "E2=[]\n",
    "E3=[]"
   ]
  },
  {
   "cell_type": "code",
   "execution_count": 16,
   "metadata": {},
   "outputs": [],
   "source": [
    "x=np.random.randint(100,size=N)\n",
    "for i in range(len(L)):\n",
    "    k=L[i]\n",
    "    X1=DFT(N,x)\n",
    "    e=0\n",
    "    for z in range(Z):\n",
    "        Xm1=X_m1(X1,k)\n",
    "        xm1=IDFT(N,Xm1)\n",
    "        e=e+MeanError(x,xm1)\n",
    "    E1.append(e/Z)\n",
    "\n",
    "    X2=DCT(N,x)\n",
    "    e=0\n",
    "    for i in range(Z):\n",
    "        Xm2=X_m2(X2,k)\n",
    "        xm2=IDCT(N,Xm2)\n",
    "        e=e+MeanError(x,xm2)\n",
    "    E2.append(e/Z)\n",
    "\n",
    "    X3=HT(N,x)\n",
    "    e=0\n",
    "    for i in range(Z):\n",
    "        Xm3=X_m3(X3,k)\n",
    "        xm3=IHT(N,Xm3)\n",
    "        e=e+MeanError(x,xm3)\n",
    "    E3.append(e/Z)"
   ]
  },
  {
   "cell_type": "code",
   "execution_count": 17,
   "metadata": {},
   "outputs": [
    {
     "data": {
      "text/plain": [
       "[<matplotlib.lines.Line2D at 0x2b2d8c0e780>]"
      ]
     },
     "execution_count": 17,
     "metadata": {},
     "output_type": "execute_result"
    },
    {
     "data": {
      "image/png": "[encoded data removed]",
      "text/plain": [
       "<Figure size 432x288 with 1 Axes>"
      ]
     },
     "metadata": {},
     "output_type": "display_data"
    }
   ],
   "source": [
    "plt.plot(L,E1,'-b')\n",
    "plt.plot(L,E2,'-r')\n",
    "plt.plot(L,E3,'-g')"
   ]
  },
  {
   "cell_type": "code",
   "execution_count": null,
   "metadata": {},
   "outputs": [],
   "source": []
  }
 ],
 "metadata": {
  "kernelspec": {
   "display_name": "Python 3",
   "language": "python",
   "name": "python3"
  },
  "language_info": {
   "codemirror_mode": {
    "name": "ipython",
    "version": 3
   },
   "file_extension": ".py",
   "mimetype": "text/x-python",
   "name": "python",
   "nbconvert_exporter": "python",
   "pygments_lexer": "ipython3",
   "version": "3.6.5"
  }
 },
 "nbformat": 4,
 "nbformat_minor": 2
}
